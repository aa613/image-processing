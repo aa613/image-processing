{
 "cells": [
  {
   "cell_type": "code",
   "execution_count": 3,
   "id": "764af009",
   "metadata": {},
   "outputs": [
    {
     "name": "stdout",
     "output_type": "stream",
     "text": [
      "Requirement already satisfied: opencv-python in c:\\users\\lenovo\\anaconda3\\lib\\site-packages (4.7.0.68)\n",
      "Requirement already satisfied: numpy>=1.17.3 in c:\\users\\lenovo\\anaconda3\\lib\\site-packages (from opencv-python) (1.21.5)\n"
     ]
    }
   ],
   "source": [
    "!pip install opencv-python"
   ]
  },
  {
   "cell_type": "code",
   "execution_count": null,
   "id": "0930b72a",
   "metadata": {},
   "outputs": [],
   "source": [
    "import cv2\n",
    "img1=cv2.imread(r\"C:\\Users\\lenovo\\Downloads\\index9.jpg\")\n",
    "img1=cv2.resize(img1,(1280,700))\n",
    "print(img1)\n",
    "cv2.imshow(\"original\",img1)\n",
    "cv2.waitKey()\n",
    "cv2.destroyAllWindows()"
   ]
  },
  {
   "cell_type": "code",
   "execution_count": null,
   "id": "9f815fed",
   "metadata": {},
   "outputs": [
    {
     "name": "stdout",
     "output_type": "stream",
     "text": [
      "[[113 113 113 ...  98  98  98]\n",
      " [113 113 113 ...  98  98  98]\n",
      " [113 113 113 ...  98  98  98]\n",
      " ...\n",
      " [ 92  92  92 ...  67  67  67]\n",
      " [ 91  91  91 ...  72  72  72]\n",
      " [ 73  73  73 ...  57  57  57]]\n"
     ]
    }
   ],
   "source": [
    "import cv2\n",
    "img2=cv2.imread(r\"C:\\Users\\lenovo\\Downloads\\index9.jpg\",0)\n",
    "img2=cv2.resize(img2,(1280,700))\n",
    "print(img2)\n",
    "cv2.imshow(\"original\",img2)\n",
    "cv2.waitKey()\n",
    "cv2.destroyAllWindows()"
   ]
  },
  {
   "cell_type": "code",
   "execution_count": null,
   "id": "c2333ab8",
   "metadata": {},
   "outputs": [
    {
     "name": "stdout",
     "output_type": "stream",
     "text": [
      "Image in original value==\n",
      " [[[ 86 122 105]\n",
      "  [ 86 122 105]\n",
      "  [ 86 122 105]\n",
      "  ...\n",
      "  [ 75 114  76]\n",
      "  [ 75 114  76]\n",
      "  [ 75 114  76]]\n",
      "\n",
      " [[ 86 122 105]\n",
      "  [ 86 122 105]\n",
      "  [ 86 122 105]\n",
      "  ...\n",
      "  [ 75 114  76]\n",
      "  [ 75 114  76]\n",
      "  [ 75 114  76]]\n",
      "\n",
      " [[ 86 122 105]\n",
      "  [ 86 122 105]\n",
      "  [ 86 122 105]\n",
      "  ...\n",
      "  [ 75 114  76]\n",
      "  [ 75 114  76]\n",
      "  [ 75 114  76]]\n",
      "\n",
      " ...\n",
      "\n",
      " [[ 79 103  75]\n",
      "  [ 79 103  75]\n",
      "  [ 79 103  75]\n",
      "  ...\n",
      "  [ 65  76  50]\n",
      "  [ 65  76  50]\n",
      "  [ 65  76  50]]\n",
      "\n",
      " [[ 78 101  73]\n",
      "  [ 78 101  73]\n",
      "  [ 78 101  73]\n",
      "  ...\n",
      "  [ 70  81  55]\n",
      "  [ 70  81  55]\n",
      "  [ 70  81  55]]\n",
      "\n",
      " [[ 61  84  56]\n",
      "  [ 61  84  56]\n",
      "  [ 61  84  56]\n",
      "  ...\n",
      "  [ 55  66  40]\n",
      "  [ 55  66  40]\n",
      "  [ 55  66  40]]]\n"
     ]
    }
   ],
   "source": [
    "import cv2\n",
    "img3=cv2.imread(r\"C:\\Users\\lenovo\\Downloads\\index9.jpg\",-1)\n",
    "img3=cv2.resize(img3,(1280,700))\n",
    "cv2.imshow(\"Unchanged Image\",img3)\n",
    "print(\"Image in original value==\\n\",img3)\n",
    "cv2.waitKey(0)\n",
    "cv2.destroyAllWindows()"
   ]
  },
  {
   "cell_type": "code",
   "execution_count": null,
   "id": "d9f64d21",
   "metadata": {},
   "outputs": [],
   "source": [
    "import cv2\n",
    "import numpy as np\n",
    "\n",
    "def cross(x):\n",
    "    pass\n",
    "#create a black imgae\n",
    "img = np.zeros((300,512,3),np.uint8) #empty image\n",
    "cv2.namedWindow(\"Color Picker\")\n",
    "\n",
    "#Creating switch for on and of the trackbars\n",
    "switch = '0 : OFF \\n1 : ON'\n",
    "cv2.createTrackbar(switch, 'Color Picker',0,1,cross)\n",
    "\n",
    "#Creating TrackBars For Adjusting Colors\n",
    "cv2.createTrackbar(\"R\",\"Color Picker\",0,255,cross)\n",
    "cv2.createTrackbar(\"G\",\"Color Picker\",0,255,cross)\n",
    "cv2.createTrackbar(\"B\",\"Color Picker\",0,255,cross)\n",
    "\n",
    "#Now creating logic to handle trackbars\n",
    "while True:\n",
    "    cv2.imshow(\"Color Picker\",img)\n",
    "    k = cv2.waitKey(1) & 0xFF\n",
    "    if k==27: #for exit\n",
    "        break\n",
    "    \n",
    "    #set current positions of four bars\n",
    "    s = cv2.getTrackbarPos(switch,\"Color Picker\") #switch\n",
    "    r = cv2.getTrackbarPos(\"R\",\"Color Picker\")\n",
    "    g = cv2.getTrackbarPos(\"G\",\"Color Picker\")\n",
    "    b = cv2.getTrackbarPos(\"B\",\"Color Picker\")\n",
    "    \n",
    "    if s==0:\n",
    "        img[:] = 0\n",
    "    else:\n",
    "        img[:] = [r,g,b] #here openCV support BGR\n",
    "cv2.destroyAllWindows()"
   ]
  },
  {
   "cell_type": "code",
   "execution_count": 11,
   "id": "ba295a52",
   "metadata": {},
   "outputs": [
    {
     "data": {
      "text/plain": [
       "-1"
      ]
     },
     "execution_count": 11,
     "metadata": {},
     "output_type": "execute_result"
    }
   ],
   "source": [
    "import cv2\n",
    "\n",
    "# image file\n",
    "img_file = r\"C:\\Users\\lenovo\\Downloads\\car-30990__340.webp\"\n",
    "# pre-trained car classifer\n",
    "car_classifer = \"cars.xml\"\n",
    "\n",
    "\n",
    "# create opencv image( a multidimensional image data)\n",
    "img = cv2.imread(img_file)\n",
    "\n",
    "\n",
    "# convert to greyscale\n",
    "black_n_white = cv2.cvtColor(img, cv2.COLOR_BGR2GRAY)\n",
    "# create  car classifer\n",
    "car_tracker = cv2.CascadeClassifier(car_classifer)\n",
    "\n",
    "# detecting car in the image\n",
    "cars = car_tracker.detectMultiScale(black_n_white)\n",
    "\n",
    "# drawing recctangle around the cars on the basis of the car cordinates\n",
    "car1 = cars[0]\n",
    "(x, y, w, h) = car1\n",
    "\n",
    "cv2.rectangle(img, (x, y), (x+w, y+h), (0, 0, 255), 2)\n",
    "\n",
    "# for (x, y, w, h) in cars:\n",
    "#     cv2.rectangle(img, (x, y), (x+w, y+h), (o, 0, 255), 2)\n",
    "\n",
    "\n",
    "cv2.imshow(\"detected car\", img)\n",
    "cv2.waitKey(0)"
   ]
  },
  {
   "cell_type": "code",
   "execution_count": null,
   "id": "64588d17",
   "metadata": {},
   "outputs": [],
   "source": []
  }
 ],
 "metadata": {
  "kernelspec": {
   "display_name": "Python 3 (ipykernel)",
   "language": "python",
   "name": "python3"
  },
  "language_info": {
   "codemirror_mode": {
    "name": "ipython",
    "version": 3
   },
   "file_extension": ".py",
   "mimetype": "text/x-python",
   "name": "python",
   "nbconvert_exporter": "python",
   "pygments_lexer": "ipython3",
   "version": "3.9.12"
  }
 },
 "nbformat": 4,
 "nbformat_minor": 5
}
